{
  "nbformat": 4,
  "nbformat_minor": 0,
  "metadata": {
    "colab": {
      "name": "Kapour_Lee_4.ipynb",
      "provenance": [],
      "collapsed_sections": []
    },
    "kernelspec": {
      "name": "python3",
      "display_name": "Python 3"
    }
  },
  "cells": [
    {
      "cell_type": "markdown",
      "metadata": {
        "id": "zy3G12576Po5"
      },
      "source": [
        "# **California Housing**\n",
        "Replication of analysis from The Elements of Statistical Learning, 10.14.\n",
        "\n",
        "Y\n",
        "---\n",
        "```\n",
        "1. median House Value\n",
        "```\n",
        "\n",
        "X\n",
        "---\n",
        "```\n",
        "1. median income\n",
        "2. housing median age\n",
        "3. total rooms\n",
        "4. total bedrooms\n",
        "5. population\n",
        "6. households\n",
        "7. latitude\n",
        "8. longitude\n",
        "```\n",
        "\n",
        "Implementation Details\n",
        "---\n",
        "```\n",
        "Split : 80 20\n",
        "Learning rate(v) analysis: 0.1\n",
        "Terminal Nodes(J) : 6\n",
        "**Loss function : Huber **\n",
        "```\n",
        "\n",
        "Expectations\n",
        "---\n",
        "```\n",
        "800 iterations => leveling of AAE to 0.31"
      ]
    },
    {
      "cell_type": "code",
      "metadata": {
        "id": "LEbpR9lxDcsb",
        "colab": {
          "base_uri": "https://localhost:8080/",
          "height": 71
        },
        "outputId": "0d1d15aa-6dcd-454a-9648-c7c0c0f59383"
      },
      "source": [
        "pip install xgboost"
      ],
      "execution_count": null,
      "outputs": [
        {
          "output_type": "stream",
          "text": [
            "Requirement already satisfied: xgboost in /usr/local/lib/python3.6/dist-packages (0.90)\n",
            "Requirement already satisfied: scipy in /usr/local/lib/python3.6/dist-packages (from xgboost) (1.4.1)\n",
            "Requirement already satisfied: numpy in /usr/local/lib/python3.6/dist-packages (from xgboost) (1.18.5)\n"
          ],
          "name": "stdout"
        }
      ]
    },
    {
      "cell_type": "code",
      "metadata": {
        "id": "tTJDvV5N6uYq",
        "colab": {
          "base_uri": "https://localhost:8080/",
          "height": 613
        },
        "outputId": "212e4906-ca11-4681-cb68-fac57715166a"
      },
      "source": [
        "import matplotlib.pyplot as plt\n",
        "import pandas as pd\n",
        "import numpy as np\n",
        "import random\n",
        "from sklearn.preprocessing import scale\n",
        "from sklearn.metrics import mean_absolute_error\n",
        "from sklearn.model_selection import train_test_split\n",
        "import xgboost as xgb\n",
        "\n",
        "labels = ['long','lat','med age','rooms','tot bed','pop','hos','med inc']\n",
        "\n",
        "# importing\n",
        "ds = pd.read_csv(\"housing.csv\", \",\" )\n",
        "ds = ds.drop(labels=\"ocean_proximity\", axis=1)\n",
        "\n",
        "# get values\n",
        "y,x = ds.iloc[:, -1].values, ds.iloc[:,:-1].values\n",
        "x = scale(x)\n",
        "y = scale(y)\n",
        "\n",
        "x_train, x_test, y_train, y_test = train_test_split( x, y, test_size=0.2, random_state=1)\n",
        "\n",
        "# Set up XGB???\n",
        "xgb_train = xgb.DMatrix(data=x_train, label=y_train)\n",
        "xgb_test = xgb.DMatrix(data=x_test, label=y_test)\n",
        "\n",
        "# Google Colab version of XGboost does not have the evaluation metric of 'mphe' mean Pseudo Huber error, which seems to be what the textbook uses for its results.\n",
        "\n",
        "param = {\n",
        "    'eta':0.1,\n",
        "    'max_leaves':6,\n",
        "    'eval_metric':'mae'\n",
        "    }\n",
        "\n",
        "M = 800\n",
        "eval_set = [(x_train, y_train), (x_test, y_test)]\n",
        "\n",
        "model = xgb.XGBRegressor(\n",
        "    eta=0.1,\n",
        "    max_leaves=6,\n",
        "    eval_metric='mae',\n",
        "    n_estimators=M,\n",
        "    )\n",
        "\n",
        "model = model.fit(x_train, y_train, eval_set=eval_set, verbose=False)\n",
        "preds = (model.predict(x_test))\n",
        "final_error = mean_absolute_error(preds, y_test)\n",
        "\n",
        "# Make graph showing improvement with growing N\n",
        "    # test error\n",
        "    # training error\n",
        "results = model.evals_result()\n",
        "\n",
        "print( final_error )\n",
        "\n",
        "\n",
        "# feature importance graph\n",
        "importance = model.feature_importances_\n",
        "plt.barh( labels, importance, color='r')\n",
        "plt.title('Relative Importance')\n",
        "plt.show()\n",
        "\n",
        "\n",
        "training_err = results['validation_0']['mae']\n",
        "testing_err = results['validation_1']['mae']\n",
        "x_axis = range( 0, len(training_err) )\n",
        "\n",
        "\n",
        "\n",
        "plt.plot(x_axis, training_err, label = 'Train')\n",
        "plt.plot(x_axis, testing_err, label='Test')\n",
        "plt.xlabel('Number of trees M')\n",
        "plt.ylabel('Absolute Error')\n",
        "plt.title('Training and Test Absolute Error')\n",
        "plt.legend();\n",
        "print(final_error)\n",
        "\n"
      ],
      "execution_count": null,
      "outputs": [
        {
          "output_type": "stream",
          "text": [
            "[20:11:57] WARNING: /workspace/src/objective/regression_obj.cu:152: reg:linear is now deprecated in favor of reg:squarederror.\n",
            "0.2884829159074857\n"
          ],
          "name": "stdout"
        },
        {
          "output_type": "display_data",
          "data": {
            "image/png": "[encoded data removed]",
            "text/plain": [
              "<Figure size 432x288 with 1 Axes>"
            ]
          },
          "metadata": {
            "tags": [],
            "needs_background": "light"
          }
        },
        {
          "output_type": "stream",
          "text": [
            "\n"
          ],
          "name": "stdout"
        },
        {
          "output_type": "display_data",
          "data": {
            "image/png": "[encoded data removed]",
            "text/plain": [
              "<Figure size 432x288 with 1 Axes>"
            ]
          },
          "metadata": {
            "tags": [],
            "needs_background": "light"
          }
        }
      ]
    },
    {
      "cell_type": "markdown",
      "metadata": {
        "id": "DZnHlt2DUKgr"
      },
      "source": [
        "The plots generated match up with the plots from the textbook analysis. The final test absolute error is slightly different than the one from the textbook due to the different evaluation metric used. XGBoost on colab did not offer a Huber loss function (even though the documentation says it does), so mean absolute error 'mae' was used as the metric instead.\n",
        "\n",
        "In terms of the feature importance, it makes total sense that the median income is by far the most important trait. Next two highest features are longitude and latitude, which make sense thinking of the wealth disparity geographically. Certain sectors of the state would have large spans of poor neighborhood while the elite and wealthy high power individuals would congregate to some gentrified neighborhood away from the rest. \n",
        "\n",
        "One interesting results from the dataset is the correlation with rooms and bedrooms, and it is interesting to see that bedroom has bigger impact on the pricing than the overall room counts, which is expected as if you have high numbers of roooms but its in a ratio of 3bed, 2bath and 1 living, the price should not vary too much compared to 3-1-1.\n",
        "\n",
        "It makes sense that median age would be important to housing price. A young household makes sense to not correlate to a wealthy house as much as an older household that have developed in their career and have more financial mobility options.\n"
      ]
    },
    {
      "cell_type": "markdown",
      "metadata": {
        "id": "kOmjsTJUcTwY"
      },
      "source": [
        "# Forest Fire \n"
      ]
    },
    {
      "cell_type": "markdown",
      "metadata": {
        "id": "Y9wNKukWcXHe"
      },
      "source": [
        "4. Relevant Information:\n",
        "\n",
        "   This is a very difficult regression task. It can be used to test regression methods. Also,\n",
        "   it could be used to test outlier detection methods, since it is not clear how many outliers\n",
        "   are there. Yet, the number of examples of fires with a large burned area is very small.\n",
        "\n",
        "5. Number of Instances: 517 \n",
        "\n",
        "6. Number of Attributes: 12 + output attribute\n",
        "  \n",
        "   Note: several of the attributes may be correlated, thus it makes sense to apply some sort of\n",
        "   feature selection.\n",
        "\n",
        "7. Attribute information:\n",
        "\n",
        "   For more information, read [Cortez and Morais, 2007].\n",
        "\n",
        "   1. X - x-axis spatial coordinate within the Montesinho park map: 1 to 9\n",
        "   2. Y - y-axis spatial coordinate within the Montesinho park map: 2 to 9\n",
        "   3. month - month of the year: \"jan\" to \"dec\" \n",
        "   4. day - day of the week: \"mon\" to \"sun\"\n",
        "   5. FFMC - FFMC index from the FWI system: 18.7 to 96.20\n",
        "   6. DMC - DMC index from the FWI system: 1.1 to 291.3 \n",
        "   7. DC - DC index from the FWI system: 7.9 to 860.6 \n",
        "   8. ISI - ISI index from the FWI system: 0.0 to 56.10\n",
        "   9. temp - temperature in Celsius degrees: 2.2 to 33.30\n",
        "   10. RH - relative humidity in %: 15.0 to 100\n",
        "   11. wind - wind speed in km/h: 0.40 to 9.40 \n",
        "   12. rain - outside rain in mm/m2 : 0.0 to 6.4 \n",
        "   13. area - the burned area of the forest (in ha): 0.00 to 1090.84 \n",
        "   (this output variable is very skewed towards 0.0, thus it may make\n",
        "    sense to model with the logarithm transform). "
      ]
    },
    {
      "cell_type": "code",
      "metadata": {
        "id": "Tmx7PWsucZc7"
      },
      "source": [
        "import matplotlib.pyplot as plt\n",
        "import pandas as pd\n",
        "import numpy as np\n",
        "import random\n",
        "from sklearn.preprocessing import scale\n",
        "from sklearn.metrics import mean_absolute_error\n",
        "from sklearn.model_selection import train_test_split\n",
        "import xgboost as xgb\n",
        "\n",
        "\n",
        "labels = ['x','y', 'month', 'day', 'FFMC','DMC','DC','ISI','temp','RH','wind', 'rain']\n",
        "\n",
        "ds = pd.read_csv(\"forestfires.csv\", \",\" )\n",
        "ds.month.replace(('jan','feb','mar','apr','may','jun','jul','aug','sep','oct','nov','dec'),(1,2,3,4,5,6,7,8,9,10,11,12), inplace=True)\n",
        "ds.day.replace(('mon','tue','wed','thu','fri','sat','sun'),(1,2,3,4,5,6,7), inplace=True)\n",
        "# ds = ds.drop(labels=\"FFMC\", axis=1)\n",
        "# ds = ds.drop(labels=\"DMC\", axis=1)\n",
        "# ds = ds.drop(labels=\"DC\", axis=1)\n",
        "# ds = ds.drop(labels=\"ISI\", axis=1)\n",
        "\n",
        "# ds = ds.drop(labels=\"month\", axis=1)\n",
        "# ds = ds.drop(labels=\"day\", axis=1)\n",
        "\n",
        "y,x = ds.iloc[:, -1].values, ds.iloc[:,:-1].values\n",
        "# y = [np.log10(entry+1) for entry in y]\n",
        "# x = np.log10(x+1)\n",
        "\n",
        "x = scale(x)\n",
        "y = scale(y)\n",
        "\n",
        "x_train, x_test, y_train, y_test = train_test_split( x, y, test_size=0.2, random_state=2)"
      ],
      "execution_count": null,
      "outputs": []
    },
    {
      "cell_type": "markdown",
      "metadata": {
        "id": "sFTzBrndhTvs"
      },
      "source": [
        ""
      ]
    },
    {
      "cell_type": "markdown",
      "metadata": {
        "id": "XNMKPe_r6FSm"
      },
      "source": [
        "**correlation color map**\n",
        "---"
      ]
    },
    {
      "cell_type": "code",
      "metadata": {
        "id": "XDsYUhx25_u1",
        "colab": {
          "base_uri": "https://localhost:8080/",
          "height": 818
        },
        "outputId": "52d1e354-1787-4c27-ab42-6cddb92a54ec"
      },
      "source": [
        "fig = plt.figure(figsize=(10, 10))\n",
        "ax = fig.add_subplot(111)\n",
        "cax = ax.matshow(ds.corr(), vmin=-1, vmax=1)\n",
        "fig.colorbar(cax)\n",
        "ticks = np.arange(0,13,1)\n",
        "ax.set_xticks(ticks)\n",
        "ax.set_yticks(ticks)\n",
        "ax.set_xticklabels(ds.columns)\n",
        "ax.set_yticklabels(ds.columns)"
      ],
      "execution_count": null,
      "outputs": [
        {
          "output_type": "execute_result",
          "data": {
            "text/plain": [
              "[Text(0, 0, 'X'),\n",
              " Text(0, 0, 'Y'),\n",
              " Text(0, 0, 'month'),\n",
              " Text(0, 0, 'day'),\n",
              " Text(0, 0, 'FFMC'),\n",
              " Text(0, 0, 'DMC'),\n",
              " Text(0, 0, 'DC'),\n",
              " Text(0, 0, 'ISI'),\n",
              " Text(0, 0, 'temp'),\n",
              " Text(0, 0, 'RH'),\n",
              " Text(0, 0, 'wind'),\n",
              " Text(0, 0, 'rain'),\n",
              " Text(0, 0, 'area')]"
            ]
          },
          "metadata": {
            "tags": []
          },
          "execution_count": 74
        },
        {
          "output_type": "display_data",
          "data": {
            "image/png": "[encoded data removed]",
            "text/plain": [
              "<Figure size 720x720 with 2 Axes>"
            ]
          },
          "metadata": {
            "tags": [],
            "needs_background": "light"
          }
        }
      ]
    },
    {
      "cell_type": "markdown",
      "metadata": {
        "id": "F_8yEDoT-2lV"
      },
      "source": [
        "Here we see trends that we expect :\n",
        "\n",
        "**Days** do not have much correlation to other features.\n",
        "\n",
        "**Months** on the other hand, clearly are correlated to some meteorological features.\n",
        "\n",
        "**Temperature** has high correlation with a lot of meterological features . In fact, many of these features seem to be highly correlated amongst themselves (**FFMC, DMC, DC, ISI**). This is a lot of multi-colinearity... "
      ]
    },
    {
      "cell_type": "markdown",
      "metadata": {
        "id": "1NLaGXNK6NmH"
      },
      "source": [
        "**relative importance**\n",
        "---"
      ]
    },
    {
      "cell_type": "code",
      "metadata": {
        "id": "sv_gjK106YBY",
        "colab": {
          "base_uri": "https://localhost:8080/",
          "height": 317
        },
        "outputId": "87f111f3-3174-48f5-a4be-8a94e18b0ede"
      },
      "source": [
        "# feature importance graph\n",
        "importance = model.feature_importances_\n",
        "print(len(importance))\n",
        "print(len(labels))\n",
        "plt.barh( labels, importance, color='r')\n",
        "plt.title('Relative Importance')\n",
        "plt.show()"
      ],
      "execution_count": null,
      "outputs": [
        {
          "output_type": "stream",
          "text": [
            "12\n",
            "12\n"
          ],
          "name": "stdout"
        },
        {
          "output_type": "display_data",
          "data": {
            "image/png": "[encoded data removed]",
            "text/plain": [
              "<Figure size 432x288 with 1 Axes>"
            ]
          },
          "metadata": {
            "tags": [],
            "needs_background": "light"
          }
        }
      ]
    },
    {
      "cell_type": "markdown",
      "metadata": {
        "id": "OQf6mEQj88Pm"
      },
      "source": [
        "From the results, we can see that one clear factor is the temperature. This is expected as higher temperatures are known to be correlated to a higher rate of forest fires.\n",
        "\n",
        "\n",
        "One surprising result that came from our analysis is the rain factor. \n",
        "From our knowledge, we assume that that the rain factor will have a huge impact on the result as rain wil be able to extinguish the fire or minimize the spread of wildfire. However, the model shows that it is not the case. Upon further inspection of the dataset, we realize that the vast majority of rain observations were 0. That will heavily skew that data which will lower the weight of the rainfall as theres not enough information to tell the feature is important.\n"
      ]
    },
    {
      "cell_type": "markdown",
      "metadata": {
        "id": "6BMEr3bbAZbP"
      },
      "source": [
        "**model prediction**\n",
        "---"
      ]
    },
    {
      "cell_type": "code",
      "metadata": {
        "id": "n7mL8xJKAZqx",
        "colab": {
          "base_uri": "https://localhost:8080/",
          "height": 367
        },
        "outputId": "ce00a7ce-a99e-474d-fe43-8a036d8b790d"
      },
      "source": [
        "M = 1100\n",
        "eval_set = [(x_train, y_train), (x_test, y_test)]\n",
        "\n",
        "model = xgb.XGBRegressor(\n",
        "    learning_rate=0.004,\n",
        "    max_leaves=4,\n",
        "    max_depth=2,\n",
        "    eval_metric='mae',\n",
        "    n_estimators=M\n",
        "    )\n",
        "\n",
        "model = model.fit(x_train, y_train, eval_set=eval_set, verbose=False)\n",
        "preds = (model.predict(x_test))\n",
        "\n",
        "final_error = mean_absolute_error(preds, y_test)\n",
        "base_line = mean_absolute_error( np.repeat( np.mean(y_test), len(y_test) ) , y_test )\n",
        "results = model.evals_result()\n",
        "\n",
        "print(f'predicted: {final_error}')\n",
        "print(f'baseline: {base_line}')\n",
        "\n",
        "\n",
        "training_err = results['validation_0']['mae']\n",
        "testing_err = results['validation_1']['mae']\n",
        "x_axis = range( 0, len(training_err) )\n",
        "\n",
        "\n",
        "# Training and test absolute error\n",
        "plt.plot(x_axis, training_err, label = 'Train')\n",
        "plt.plot(x_axis, testing_err, label='Test')\n",
        "plt.xlabel('Number of trees M')\n",
        "plt.ylabel('Absolute Error')\n",
        "plt.title('Training and Test Absolute Error')\n",
        "plt.legend()"
      ],
      "execution_count": null,
      "outputs": [
        {
          "output_type": "stream",
          "text": [
            "[00:04:28] WARNING: /workspace/src/objective/regression_obj.cu:152: reg:linear is now deprecated in favor of reg:squarederror.\n",
            "predicted: 0.24340320432735266\n",
            "baseline: 0.21964355905442356\n"
          ],
          "name": "stdout"
        },
        {
          "output_type": "execute_result",
          "data": {
            "text/plain": [
              "<matplotlib.legend.Legend at 0x7f66f211df60>"
            ]
          },
          "metadata": {
            "tags": []
          },
          "execution_count": 101
        },
        {
          "output_type": "display_data",
          "data": {
            "image/png": "[encoded data removed]",
            "text/plain": [
              "<Figure size 432x288 with 1 Axes>"
            ]
          },
          "metadata": {
            "tags": [],
            "needs_background": "light"
          }
        }
      ]
    },
    {
      "cell_type": "markdown",
      "metadata": {
        "id": "Y_1YrjMaAaLy"
      },
      "source": [
        "Although our model was tuned so it does not overfit, the model could not pass the baseline guess. We were not able to tune the model so that it had low training error and was not overfitting. \n",
        "\n",
        "The label of this dataset is extremely skewed to 0 so the baseline is already relatively low. \n",
        "\n",
        "Attempts to do a logarithm transform on the labels did not seem to make the model predictions any better either.\n",
        "\n",
        "There aren't many points in this dataset, about 500 and we're doing a 80% 20% split.\n",
        "\n",
        "Attempting to get rid of the colinear terms in exchange for only using temperature did not improve the score by a lot. In fact, the score remained almost the same but slightly worse. \n",
        "\n",
        "This dataset was prefaced with the fact that its a very difficult regression task, and it appears that we were not successful in tuning our parameters to make it work well. We may have overlooked some hyperparameter that would lead us towards much more accurate results. Or, perhaps there is another data structure that works better for this case, as our attempts with gradient boosted trees have failed"
      ]
    }
  ]
}