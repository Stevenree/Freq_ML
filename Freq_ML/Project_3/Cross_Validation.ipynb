{
  "nbformat": 4,
  "nbformat_minor": 0,
  "metadata": {
    "colab": {
      "name": "Kapour-Lee project 3",
      "provenance": [],
      "collapsed_sections": [
        "3a6Drepp-tGu",
        "OB3n59AXeacd"
      ]
    },
    "kernelspec": {
      "name": "python3",
      "display_name": "Python 3"
    }
  },
  "cells": [
    {
      "cell_type": "markdown",
      "metadata": {
        "id": "fsjtjZ9tkKvp"
      },
      "source": [
        "# **Project 3**\n",
        "---\n",
        "Thodori Kapouranis, Steven Lee\n",
        "\n",
        "Frequentist Machine Learning\n",
        "\n",
        "Professor Samuel Keene"
      ]
    },
    {
      "cell_type": "markdown",
      "metadata": {
        "id": "3a6Drepp-tGu"
      },
      "source": [
        "# **Bad K-folding**"
      ]
    },
    {
      "cell_type": "code",
      "metadata": {
        "id": "LGEqF8i_yNB7",
        "colab": {
          "base_uri": "https://localhost:8080/",
          "height": 331
        },
        "outputId": "0330dff9-fd47-40d9-c548-d61b149ef21c"
      },
      "source": [
        "import matplotlib.pyplot as plt\n",
        "import pandas as pd\n",
        "import numpy as np\n",
        "import random\n",
        "from sklearn.preprocessing import StandardScaler, scale\n",
        "from sklearn.model_selection import train_test_split\n",
        "from sklearn import metrics\n",
        "from sklearn.neighbors import KNeighborsClassifier\n",
        "\n",
        "x = np.random.randn(50,5000)\n",
        "y = [np.ones(25), np.zeros(25)]\n",
        "y = np.hstack( (y[0], y[1]) )\n",
        "random.shuffle(y)\n",
        "\n",
        "# Making the data frame\n",
        "df = pd.DataFrame(x)\n",
        "df['label']=y\n",
        "\n",
        "# Making the correlation tables\n",
        "corr_matrix = df.corr()\n",
        "\n",
        "# Find out the 100 features with the best correlation\n",
        "corr_matrix['label'][:] = abs(corr_matrix['label'][:])\n",
        "best_features = corr_matrix['label'][:].sort_values(ascending=False)[1:101] \n",
        "\n",
        "best_index = best_features.index\n",
        "\n",
        "best_x = np.zeros((50,100))\n",
        "\n",
        "# Remake the observations to only have the best 100 features stored in best_x\n",
        "for entry in range( len(x) ):\n",
        "  for index in range( len( best_index ) ):\n",
        "    best_x[entry][index] = x[entry][best_index[index]] \n",
        "\n",
        "x_folds = [ best_x[0:10], best_x[10:20], best_x[20:30], best_x[30:40], best_x[40:50] ]\n",
        "\n",
        "y_folds = [ y[0:10], y[10:20], y[20:30], y[30:40], y[40:50]]\n",
        "\n",
        "\n",
        "# K-fold and take the average of the CV error rate\n",
        "score = []\n",
        "for k in range( len( x_folds ) ):\n",
        "  # Initialization\n",
        "  classifier = KNeighborsClassifier(n_neighbors = 1, metric = 'minkowski', p = 2)\n",
        "  x_val   = [ [i] for i in x_folds[k] ]\n",
        "  y_val   = y_folds[k]\n",
        "  x_train = x_folds[:][:]\n",
        "  y_train = y_folds[:][:]\n",
        "\n",
        "  # Make training set \n",
        "  x_train.pop(k)\n",
        "  y_train.pop(k)\n",
        "\n",
        "  # Turning into np array for easy shape manipulation\n",
        "  x_val = np.array(x_val)\n",
        "  x_val = x_val.squeeze()\n",
        "\n",
        "  x_train = np.array(x_train)\n",
        "  x_train = np.reshape(x_train, [40,100])\n",
        "\n",
        "  y_train = np.array(y_train)\n",
        "  y_train = np.reshape(y_train, [40])\n",
        "\n",
        "  classifier.fit(x_train,y_train)\n",
        "  score.append( classifier.score(x_val,y_val) )\n",
        "\n",
        "\n",
        "print(f'Cross validation score: {sum(score)/5}')\n",
        "  \n",
        "randSamples = df.sample(n=10)\n",
        "sampleCorr  = randSamples.corr()['label']\n",
        "plt.hist( sampleCorr[best_index], bins='auto', color='r', edgecolor='black', linewidth=1.2 )\n",
        "plt.title(\"Improper Cross validation\")\n",
        "plt.ylabel(\"Frequency\")\n",
        "plt.xlabel(\"Correlations of Selected Predictors with Outcome\")"
      ],
      "execution_count": null,
      "outputs": [
        {
          "output_type": "stream",
          "text": [
            "Cross validation score: 1.0\n"
          ],
          "name": "stdout"
        },
        {
          "output_type": "execute_result",
          "data": {
            "text/plain": [
              "Text(0.5, 0, 'Correlations of Selected Predictors with Outcome')"
            ]
          },
          "metadata": {
            "tags": []
          },
          "execution_count": 32
        },
        {
          "output_type": "display_data",
          "data": {
            "image/png": "[encoded data removed]",
            "text/plain": [
              "<Figure size 432x288 with 1 Axes>"
            ]
          },
          "metadata": {
            "tags": [],
            "needs_background": "light"
          }
        }
      ]
    },
    {
      "cell_type": "markdown",
      "metadata": {
        "id": "3mlpyl60ECoc"
      },
      "source": [
        "**Comments**\n",
        "---\n",
        "The results match up with the textbook.\n",
        "\n",
        "This method of K-folding gives cross validation error results that are too good to be true. This is due to the model knowing the information about the validation set when it picks its coefficients, so the predictions will be overfitted to fit that specific pattern. \n",
        "\n",
        "This is bad generalization because the dataset's true nature is completely random, therefore a CV error of 50% is proper."
      ]
    },
    {
      "cell_type": "markdown",
      "metadata": {
        "id": "OB3n59AXeacd"
      },
      "source": [
        "# **Good K-folding**"
      ]
    },
    {
      "cell_type": "code",
      "metadata": {
        "id": "Wtqz7LezedDU",
        "colab": {
          "base_uri": "https://localhost:8080/",
          "height": 331
        },
        "outputId": "4dcffa89-389a-4c52-ec1f-bab21a935c8f"
      },
      "source": [
        "import matplotlib.pyplot as plt\n",
        "import pandas as pd\n",
        "import numpy as np\n",
        "import random\n",
        "from sklearn.preprocessing import StandardScaler, scale\n",
        "from sklearn.model_selection import train_test_split\n",
        "from sklearn import metrics\n",
        "from sklearn.neighbors import KNeighborsClassifier\n",
        "\n",
        "x = np.random.randn(50,5000)\n",
        "y = [np.ones(25), np.zeros(25)]\n",
        "y = np.hstack( (y[0], y[1]) )\n",
        "random.shuffle(y)\n",
        "\n",
        "# Fold our information into 5 sections\n",
        "x_folds = [ x[0:10], x[10:20], x[20:30], x[30:40], x[40:50] ]\n",
        "y_folds = [ y[0:10], y[10:20], y[20:30], y[30:40], y[40:50] ]\n",
        "\n",
        "# K-fold and take the average of the CV error rate\n",
        "score = []\n",
        "for k in range( len( x_folds ) ):\n",
        "  \n",
        "  # Initialization\n",
        "  classifier = KNeighborsClassifier(n_neighbors = 1, metric = 'minkowski', p = 2)\n",
        "\n",
        "  x_train = x_folds[:][:]\n",
        "  y_train = y_folds[:][:]\n",
        "\n",
        "  # Make training set \n",
        "  x_train.pop(k)\n",
        "  y_train.pop(k)\n",
        "\n",
        "  # Turning into np array for easy shape manipulation\n",
        "  x_train = np.array(x_train)\n",
        "  x_train = np.reshape(x_train, [40,5000])\n",
        "\n",
        "  y_train = np.array(y_train)\n",
        "  y_train = np.reshape(y_train, [40])\n",
        "\n",
        "  # Make table only from the visible information from the training set\n",
        "  ktable = pd.DataFrame(x_train)\n",
        "  ktable[\"label\"] = y_train\n",
        "\n",
        "  # Find correlation only from visible information\n",
        "  corr_matrix = ktable.corr()\n",
        "  corr_matrix['label'][:] = abs(corr_matrix['label'][:])\n",
        "  best_features = corr_matrix['label'][:].sort_values(ascending=False)[1:101] \n",
        "  best_index = best_features.index\n",
        "  best_x = np.zeros((50,100))\n",
        "\n",
        "  # Remake the observations to only have the best 100 features stored in best_x\n",
        "  for entry in range( len(x) ):\n",
        "    for index in range( len( best_index ) ):\n",
        "      best_x[entry][index] = x[entry][best_index[index]] \n",
        "\n",
        "  best_x_folds = [ best_x[0:10], best_x[10:20], best_x[20:30], best_x[30:40], best_x[40:50] ]\n",
        "\n",
        "  # Grab new validation set, selecting only best 100 features\n",
        "  x_val   = [ [i] for i in best_x_folds[k] ]\n",
        "  x_val   = np.array(x_val)\n",
        "  x_val   = x_val.squeeze()\n",
        "\n",
        "  y_val   = y_folds[k]\n",
        "\n",
        "  # Remake our training set to only include the best 100 features\n",
        "  best_training = best_x_folds[:][:]\n",
        "  best_training.pop(k)\n",
        "  best_training = np.array(best_training)\n",
        "  best_training = np.reshape(best_training, [40, 100])\n",
        "\n",
        "  # Score!!!@#!@!@!@!@\n",
        "  classifier.fit(best_training,y_train)\n",
        "  score.append( classifier.score(x_val,y_val) )\n",
        "\n",
        "print(f'Cross validation score: {sum(score)/5}')\n",
        "  \n",
        "randSamples = df.sample(n=10)\n",
        "sampleCorr  = randSamples.corr()['label']\n",
        "plt.hist( sampleCorr[best_index], bins='auto', color='g', edgecolor='black', linewidth=1.2 )\n",
        "plt.title(\"Proper Cross validation\")\n",
        "plt.ylabel(\"Frequency\")\n",
        "plt.xlabel(\"Correlations of Selected Predictors with Outcome\")"
      ],
      "execution_count": null,
      "outputs": [
        {
          "output_type": "stream",
          "text": [
            "Cross validation score: 0.5399999999999999\n"
          ],
          "name": "stdout"
        },
        {
          "output_type": "execute_result",
          "data": {
            "text/plain": [
              "Text(0.5, 0, 'Correlations of Selected Predictors with Outcome')"
            ]
          },
          "metadata": {
            "tags": []
          },
          "execution_count": 28
        },
        {
          "output_type": "display_data",
          "data": {
            "image/png": "[encoded data removed]",
            "text/plain": [
              "<Figure size 432x288 with 1 Axes>"
            ]
          },
          "metadata": {
            "tags": [],
            "needs_background": "light"
          }
        }
      ]
    },
    {
      "cell_type": "markdown",
      "metadata": {
        "id": "SW1LvScYDLa8"
      },
      "source": [
        "**Comments**\n",
        "---\n",
        "When the program runs, the cross validation score is consistently at around 50%, the expected accuracy score of a randomly independent distributed set. \n",
        "\n",
        "Correct k-folding results this because you do not pick your features using information about the validation/testing set because you treat them as if you can't see them. This way, the model is not cheating by knowing information it shouldn't, and therefore the model's CV error will be more representative."
      ]
    }
  ]
}